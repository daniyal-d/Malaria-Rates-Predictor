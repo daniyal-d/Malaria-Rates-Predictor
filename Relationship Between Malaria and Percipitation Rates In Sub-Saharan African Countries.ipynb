{
 "cells": [
  {
   "cell_type": "markdown",
   "id": "164f3d99",
   "metadata": {},
   "source": [
    "# This Project Aims to Determine Whether a Relationship Between Malaria and Percipitation Rates Exists\n",
    "\n",
    "* The data of 9 Sub-Saharan African countries are used\n",
    "* 3 of these countries have high percipitation, 3 have medium, and 3 have low\n",
    "* Sierra Leone, Liberia, Equatorial Guinea, Ghana, Tanzania, Mozambique, Botswana, South Africa, Namibia\n",
    "\n",
    "<b>Step 1. Determine the correlation between all percipitation rates and malaria rates <br>\n",
    "Step 2. Maybe determine correlation within each country <br>\n",
    "Step 3. Create machine learning model to predict malaria rates from percipitation (regression) <br>\n",
    "Step 4. Predict malaria rates for different countries <br>\n",
    "Step 5. Find mean among high, medium, and low countries <br>\n",
    "Step 6. Determine if there is a statistically significant difference between them <br>\n",
    "Step 7. Maybe do SRI model afterwards </b>"
   ]
  },
  {
   "cell_type": "code",
   "execution_count": 105,
   "id": "36b862c8",
   "metadata": {},
   "outputs": [],
   "source": [
    "import pandas as pd\n",
    "import numpy as np\n",
    "import matplotlib.pyplot as plt\n",
    "import seaborn as sns\n",
    "\n",
    "from sklearn.model_selection import train_test_split\n",
    "from sklearn.preprocessing import MinMaxScaler\n",
    "from sklearn.preprocessing import StandardScaler\n",
    "\n",
    "from sklearn.ensemble import RandomForestRegressor\n",
    "from sklearn.linear_model import LinearRegression\n",
    "from sklearn.linear_model import SGDRegressor\n",
    "from sklearn.linear_model import Lasso\n",
    "from sklearn.linear_model import ElasticNet"
   ]
  },
  {
   "cell_type": "markdown",
   "id": "22fe7d24",
   "metadata": {},
   "source": [
    "# Step 1"
   ]
  },
  {
   "cell_type": "markdown",
   "id": "5d2d4c44",
   "metadata": {},
   "source": [
    "### Per Rate is annual percipitation rate in mm, Mal Rate is annual malaria rate per 1,000 people at risk"
   ]
  },
  {
   "cell_type": "code",
   "execution_count": 106,
   "id": "2e7e6f12",
   "metadata": {},
   "outputs": [
    {
     "data": {
      "text/html": [
       "<div>\n",
       "<style scoped>\n",
       "    .dataframe tbody tr th:only-of-type {\n",
       "        vertical-align: middle;\n",
       "    }\n",
       "\n",
       "    .dataframe tbody tr th {\n",
       "        vertical-align: top;\n",
       "    }\n",
       "\n",
       "    .dataframe thead th {\n",
       "        text-align: right;\n",
       "    }\n",
       "</style>\n",
       "<table border=\"1\" class=\"dataframe\">\n",
       "  <thead>\n",
       "    <tr style=\"text-align: right;\">\n",
       "      <th></th>\n",
       "      <th>Per Rate</th>\n",
       "      <th>Mal Rate</th>\n",
       "    </tr>\n",
       "  </thead>\n",
       "  <tbody>\n",
       "    <tr>\n",
       "      <th>count</th>\n",
       "      <td>189.000000</td>\n",
       "      <td>189.000000</td>\n",
       "    </tr>\n",
       "    <tr>\n",
       "      <th>mean</th>\n",
       "      <td>1324.815873</td>\n",
       "      <td>228.255197</td>\n",
       "    </tr>\n",
       "    <tr>\n",
       "      <th>std</th>\n",
       "      <td>916.780607</td>\n",
       "      <td>173.617809</td>\n",
       "    </tr>\n",
       "    <tr>\n",
       "      <th>min</th>\n",
       "      <td>231.800000</td>\n",
       "      <td>0.168270</td>\n",
       "    </tr>\n",
       "    <tr>\n",
       "      <th>25%</th>\n",
       "      <td>433.480000</td>\n",
       "      <td>7.456530</td>\n",
       "    </tr>\n",
       "    <tr>\n",
       "      <th>50%</th>\n",
       "      <td>1038.850000</td>\n",
       "      <td>310.783273</td>\n",
       "    </tr>\n",
       "    <tr>\n",
       "      <th>75%</th>\n",
       "      <td>2416.680000</td>\n",
       "      <td>375.631969</td>\n",
       "    </tr>\n",
       "    <tr>\n",
       "      <th>max</th>\n",
       "      <td>3534.950000</td>\n",
       "      <td>501.871376</td>\n",
       "    </tr>\n",
       "  </tbody>\n",
       "</table>\n",
       "</div>"
      ],
      "text/plain": [
       "          Per Rate    Mal Rate\n",
       "count   189.000000  189.000000\n",
       "mean   1324.815873  228.255197\n",
       "std     916.780607  173.617809\n",
       "min     231.800000    0.168270\n",
       "25%     433.480000    7.456530\n",
       "50%    1038.850000  310.783273\n",
       "75%    2416.680000  375.631969\n",
       "max    3534.950000  501.871376"
      ]
     },
     "execution_count": 106,
     "metadata": {},
     "output_type": "execute_result"
    }
   ],
   "source": [
    "# Step 1 Determining correlation between all countries\n",
    "\n",
    "total_df = pd.read_excel(\"Data/Total Data.xlsx\")\n",
    "total_df.describe()"
   ]
  },
  {
   "cell_type": "markdown",
   "id": "8e98368a",
   "metadata": {},
   "source": [
    "#### Approximately 78% positive correlation between percipitation rates and malaria rates"
   ]
  },
  {
   "cell_type": "code",
   "execution_count": 107,
   "id": "4bd429ca",
   "metadata": {},
   "outputs": [
    {
     "data": {
      "text/plain": [
       "0.7799014829025152"
      ]
     },
     "execution_count": 107,
     "metadata": {},
     "output_type": "execute_result"
    }
   ],
   "source": [
    "# Finding correlation between percipitaiton rate and malaria rate\n",
    "\n",
    "total_corr = total_df[\"Per Rate\"].corr(total_df[\"Mal Rate\"])\n",
    "total_corr"
   ]
  },
  {
   "cell_type": "markdown",
   "id": "82d2bd51",
   "metadata": {},
   "source": [
    "#### Many bunches of data (this was because I chose data in specific percipitaiton categories). Visually, malaria rates tend to increase with more percipitation"
   ]
  },
  {
   "cell_type": "code",
   "execution_count": 181,
   "id": "3f16c074",
   "metadata": {},
   "outputs": [
    {
     "data": {
      "image/png": "[encoded data removed]",
      "text/plain": [
       "<Figure size 432x288 with 1 Axes>"
      ]
     },
     "metadata": {
      "needs_background": "light"
     },
     "output_type": "display_data"
    }
   ],
   "source": [
    "# Graphing scatterplot\n",
    "sns.regplot(x=total_df[\"Per Rate\"],y=total_df[\"Mal Rate\"]).set(title=\"Precipitation vs Malaria Rates\", \n",
    "                                                               xlabel=\"Annual Precipitation (mm)\", \n",
    "                                                               ylabel=\"Annual Malaria Rate (per 1,000 at risk)\");"
   ]
  },
  {
   "cell_type": "markdown",
   "id": "f13f71a5",
   "metadata": {},
   "source": [
    "# Step 3\n",
    "Creating machine learning model"
   ]
  },
  {
   "cell_type": "code",
   "execution_count": 109,
   "id": "bb466abc",
   "metadata": {},
   "outputs": [],
   "source": [
    "models = {\"Random Forest Regressor\": RandomForestRegressor(), \"Linear Regression\": LinearRegression(), \n",
    "          \"SGD\": SGDRegressor(), \"Lasso\": Lasso(), \"ElasticNet\": ElasticNet()}\n",
    "\n",
    "def fit_and_score(models, X_train, X_test, y_train, y_test):\n",
    "    np.random.seed(42)\n",
    "    model_scores = {}\n",
    "    for name, model in models.items():\n",
    "        model.fit(X_train, y_train)\n",
    "        model_scores[name] = model.score(X_test, y_test)\n",
    "    \n",
    "    return model_scores"
   ]
  },
  {
   "cell_type": "code",
   "execution_count": 110,
   "id": "95cb459f",
   "metadata": {},
   "outputs": [
    {
     "data": {
      "text/plain": [
       "(   Per Rate\n",
       " 0   2675.52\n",
       " 1   2661.41\n",
       " 2   2660.00\n",
       " 3   2544.16\n",
       " 4   2685.00,\n",
       " 0    469.996968\n",
       " 1    473.005335\n",
       " 2    465.025364\n",
       " 3    444.057324\n",
       " 4    428.588175\n",
       " Name: Mal Rate, dtype: float64)"
      ]
     },
     "execution_count": 110,
     "metadata": {},
     "output_type": "execute_result"
    }
   ],
   "source": [
    "# Defining X and y data\n",
    "# Model will use percipitaiton rates to attempt to predict malaria rates\n",
    "X = total_df.drop(\"Mal Rate\", axis=1)\n",
    "y = total_df[\"Mal Rate\"]\n",
    "X.head(), y.head()"
   ]
  },
  {
   "cell_type": "code",
   "execution_count": 111,
   "id": "eac6514c",
   "metadata": {},
   "outputs": [],
   "source": [
    "# Splitting data into train and test sets (this also shuffles the data)\n",
    "np.random.seed(42)\n",
    "\n",
    "X_train, X_test, y_train, y_test = train_test_split(X,y, test_size=0.2)"
   ]
  },
  {
   "cell_type": "code",
   "execution_count": 112,
   "id": "6ca720c8",
   "metadata": {},
   "outputs": [
    {
     "data": {
      "text/plain": [
       "{'Random Forest Regressor': 0.8026666601822584,\n",
       " 'Linear Regression': 0.5744866072060061,\n",
       " 'SGD': -3.611252742580351e+26,\n",
       " 'Lasso': 0.5744865779767403,\n",
       " 'ElasticNet': 0.5744865904432731}"
      ]
     },
     "execution_count": 112,
     "metadata": {},
     "output_type": "execute_result"
    }
   ],
   "source": [
    "# First attempt, without standardizing data\n",
    "fit_and_score(models, X_train, X_test, y_train, y_test)"
   ]
  },
  {
   "cell_type": "markdown",
   "id": "87def123",
   "metadata": {},
   "source": [
    "## Random Forest Regressor has the best accuracy ~80%"
   ]
  },
  {
   "cell_type": "code",
   "execution_count": 113,
   "id": "f1363992",
   "metadata": {},
   "outputs": [],
   "source": [
    "# Now let's standardize the data, which could make predictions more accurate\n",
    "from sklearn.preprocessing import StandardScaler\n",
    "np.random.seed(42)\n",
    "\n",
    "X_train_z = X_train\n",
    "X_test_z = X_test\n",
    "\n",
    "\n",
    "z_scaler = StandardScaler().fit(X_train_z)\n",
    "\n",
    "z_scaled_X_train = z_scaler.transform(X_train_z)\n",
    "z_scaled_X_test = z_scaler.transform(X_test_z)"
   ]
  },
  {
   "cell_type": "code",
   "execution_count": 114,
   "id": "bd4672de",
   "metadata": {},
   "outputs": [
    {
     "data": {
      "text/plain": [
       "{'Random Forest Regressor': 0.8026666601822584,\n",
       " 'Linear Regression': 0.5744866072060062,\n",
       " 'SGD': 0.5744598517655621,\n",
       " 'Lasso': 0.5744284347454304,\n",
       " 'ElasticNet': 0.5085058650042368}"
      ]
     },
     "execution_count": 114,
     "metadata": {},
     "output_type": "execute_result"
    }
   ],
   "source": [
    "# Overall, standardizing data doesn't really improve anything\n",
    "fit_and_score(models, z_scaled_X_train, z_scaled_X_test, y_train, y_test)"
   ]
  },
  {
   "cell_type": "markdown",
   "id": "3b52fe11",
   "metadata": {},
   "source": [
    "# Step 4 Predicting Malaria Rates\n",
    "Now, we must use the create Random Forest Regressor model to actually predict malaria values in 2022. This will be based off of the mean percipitation present in 2021 (since 2022 is still ongoing as I am writing this).\n",
    "\n",
    "First, the malaria rate for each country will be predicted <br>\n",
    "Second, countries will be grouped by their percipitation levels and the mean values between them found <br>\n",
    "Third, significance tests will be performed to determine if a difference exists"
   ]
  },
  {
   "cell_type": "code",
   "execution_count": 158,
   "id": "16cc4146",
   "metadata": {},
   "outputs": [
    {
     "data": {
      "text/html": [
       "<style>#sk-container-id-5 {color: black;background-color: white;}#sk-container-id-5 pre{padding: 0;}#sk-container-id-5 div.sk-toggleable {background-color: white;}#sk-container-id-5 label.sk-toggleable__label {cursor: pointer;display: block;width: 100%;margin-bottom: 0;padding: 0.3em;box-sizing: border-box;text-align: center;}#sk-container-id-5 label.sk-toggleable__label-arrow:before {content: \"▸\";float: left;margin-right: 0.25em;color: #696969;}#sk-container-id-5 label.sk-toggleable__label-arrow:hover:before {color: black;}#sk-container-id-5 div.sk-estimator:hover label.sk-toggleable__label-arrow:before {color: black;}#sk-container-id-5 div.sk-toggleable__content {max-height: 0;max-width: 0;overflow: hidden;text-align: left;background-color: #f0f8ff;}#sk-container-id-5 div.sk-toggleable__content pre {margin: 0.2em;color: black;border-radius: 0.25em;background-color: #f0f8ff;}#sk-container-id-5 input.sk-toggleable__control:checked~div.sk-toggleable__content {max-height: 200px;max-width: 100%;overflow: auto;}#sk-container-id-5 input.sk-toggleable__control:checked~label.sk-toggleable__label-arrow:before {content: \"▾\";}#sk-container-id-5 div.sk-estimator input.sk-toggleable__control:checked~label.sk-toggleable__label {background-color: #d4ebff;}#sk-container-id-5 div.sk-label input.sk-toggleable__control:checked~label.sk-toggleable__label {background-color: #d4ebff;}#sk-container-id-5 input.sk-hidden--visually {border: 0;clip: rect(1px 1px 1px 1px);clip: rect(1px, 1px, 1px, 1px);height: 1px;margin: -1px;overflow: hidden;padding: 0;position: absolute;width: 1px;}#sk-container-id-5 div.sk-estimator {font-family: monospace;background-color: #f0f8ff;border: 1px dotted black;border-radius: 0.25em;box-sizing: border-box;margin-bottom: 0.5em;}#sk-container-id-5 div.sk-estimator:hover {background-color: #d4ebff;}#sk-container-id-5 div.sk-parallel-item::after {content: \"\";width: 100%;border-bottom: 1px solid gray;flex-grow: 1;}#sk-container-id-5 div.sk-label:hover label.sk-toggleable__label {background-color: #d4ebff;}#sk-container-id-5 div.sk-serial::before {content: \"\";position: absolute;border-left: 1px solid gray;box-sizing: border-box;top: 0;bottom: 0;left: 50%;z-index: 0;}#sk-container-id-5 div.sk-serial {display: flex;flex-direction: column;align-items: center;background-color: white;padding-right: 0.2em;padding-left: 0.2em;position: relative;}#sk-container-id-5 div.sk-item {position: relative;z-index: 1;}#sk-container-id-5 div.sk-parallel {display: flex;align-items: stretch;justify-content: center;background-color: white;position: relative;}#sk-container-id-5 div.sk-item::before, #sk-container-id-5 div.sk-parallel-item::before {content: \"\";position: absolute;border-left: 1px solid gray;box-sizing: border-box;top: 0;bottom: 0;left: 50%;z-index: -1;}#sk-container-id-5 div.sk-parallel-item {display: flex;flex-direction: column;z-index: 1;position: relative;background-color: white;}#sk-container-id-5 div.sk-parallel-item:first-child::after {align-self: flex-end;width: 50%;}#sk-container-id-5 div.sk-parallel-item:last-child::after {align-self: flex-start;width: 50%;}#sk-container-id-5 div.sk-parallel-item:only-child::after {width: 0;}#sk-container-id-5 div.sk-dashed-wrapped {border: 1px dashed gray;margin: 0 0.4em 0.5em 0.4em;box-sizing: border-box;padding-bottom: 0.4em;background-color: white;}#sk-container-id-5 div.sk-label label {font-family: monospace;font-weight: bold;display: inline-block;line-height: 1.2em;}#sk-container-id-5 div.sk-label-container {text-align: center;}#sk-container-id-5 div.sk-container {/* jupyter's `normalize.less` sets `[hidden] { display: none; }` but bootstrap.min.css set `[hidden] { display: none !important; }` so we also need the `!important` here to be able to override the default hidden behavior on the sphinx rendered scikit-learn.org. See: https://github.com/scikit-learn/scikit-learn/issues/21755 */display: inline-block !important;position: relative;}#sk-container-id-5 div.sk-text-repr-fallback {display: none;}</style><div id=\"sk-container-id-5\" class=\"sk-top-container\"><div class=\"sk-text-repr-fallback\"><pre>RandomForestRegressor(n_estimators=10)</pre><b>In a Jupyter environment, please rerun this cell to show the HTML representation or trust the notebook. <br />On GitHub, the HTML representation is unable to render, please try loading this page with nbviewer.org.</b></div><div class=\"sk-container\" hidden><div class=\"sk-item\"><div class=\"sk-estimator sk-toggleable\"><input class=\"sk-toggleable__control sk-hidden--visually\" id=\"sk-estimator-id-5\" type=\"checkbox\" checked><label for=\"sk-estimator-id-5\" class=\"sk-toggleable__label sk-toggleable__label-arrow\">RandomForestRegressor</label><div class=\"sk-toggleable__content\"><pre>RandomForestRegressor(n_estimators=10)</pre></div></div></div></div></div>"
      ],
      "text/plain": [
       "RandomForestRegressor(n_estimators=10)"
      ]
     },
     "execution_count": 158,
     "metadata": {},
     "output_type": "execute_result"
    }
   ],
   "source": [
    "model = RandomForestRegressor(n_estimators=10)\n",
    "model.fit(X_train, y_train)"
   ]
  },
  {
   "cell_type": "code",
   "execution_count": 159,
   "id": "4cddadab",
   "metadata": {},
   "outputs": [
    {
     "name": "stderr",
     "output_type": "stream",
     "text": [
      "C:\\Users\\Daniyal\\Desktop\\sample_project_1\\env\\lib\\site-packages\\sklearn\\base.py:450: UserWarning: X does not have valid feature names, but RandomForestRegressor was fitted with feature names\n",
      "  warnings.warn(\n",
      "C:\\Users\\Daniyal\\Desktop\\sample_project_1\\env\\lib\\site-packages\\sklearn\\base.py:450: UserWarning: X does not have valid feature names, but RandomForestRegressor was fitted with feature names\n",
      "  warnings.warn(\n",
      "C:\\Users\\Daniyal\\Desktop\\sample_project_1\\env\\lib\\site-packages\\sklearn\\base.py:450: UserWarning: X does not have valid feature names, but RandomForestRegressor was fitted with feature names\n",
      "  warnings.warn(\n"
     ]
    },
    {
     "data": {
      "text/plain": [
       "{'Sierra Leone': array([419.26537469]),\n",
       " 'Libera': array([365.36228696]),\n",
       " 'Equatorial Guinea': array([403.89533196])}"
      ]
     },
     "execution_count": 159,
     "metadata": {},
     "output_type": "execute_result"
    }
   ],
   "source": [
    "# Predicted malaria rates for HIGH Percipitation Countries\n",
    "# These are Sierra Leone, Liberia, and Equatorial Guinea\n",
    "# Values for 2021 percipitation are from World Bank\n",
    "np.random.seed(42)\n",
    "\n",
    "high_per_rates_2022 = {\"Sierra Leone\": 2787.93, \"Libera\": 2422.51, \"Equatorial Guinea\": 2466.59}\n",
    "high_mal_rates_preds = {\"Sierra Leone\": 0, \"Libera\": 0, \"Equatorial Guinea\": 0}\n",
    "\n",
    "for i in high_per_rates_2022:\n",
    "    high_mal_rates_preds[i] = model.predict([[high_per_rates_2022[i]]])\n",
    "\n",
    "high_mal_rates_preds"
   ]
  },
  {
   "cell_type": "code",
   "execution_count": 160,
   "id": "7448db25",
   "metadata": {},
   "outputs": [
    {
     "name": "stdout",
     "output_type": "stream",
     "text": [
      "{'Sierra Leone': 419.26537468500084, 'Libera': 365.36228696022954, 'Equatorial Guinea': 403.8953319634332}\n"
     ]
    }
   ],
   "source": [
    "# Cleaning up data so it looks nicer\n",
    "for i in high_mal_rates_preds.items():\n",
    "    high_mal_rates_preds[i[0]] = float(i[1])\n",
    "\n",
    "print(high_mal_rates_preds)\n"
   ]
  },
  {
   "cell_type": "code",
   "execution_count": 161,
   "id": "2958abb0",
   "metadata": {},
   "outputs": [
    {
     "name": "stdout",
     "output_type": "stream",
     "text": [
      "{'Ghana': 364.1689278343173, 'Tanzania': 210.8259680889383, 'Mozambique': 389.9286587591805}\n"
     ]
    },
    {
     "name": "stderr",
     "output_type": "stream",
     "text": [
      "C:\\Users\\Daniyal\\Desktop\\sample_project_1\\env\\lib\\site-packages\\sklearn\\base.py:450: UserWarning: X does not have valid feature names, but RandomForestRegressor was fitted with feature names\n",
      "  warnings.warn(\n",
      "C:\\Users\\Daniyal\\Desktop\\sample_project_1\\env\\lib\\site-packages\\sklearn\\base.py:450: UserWarning: X does not have valid feature names, but RandomForestRegressor was fitted with feature names\n",
      "  warnings.warn(\n",
      "C:\\Users\\Daniyal\\Desktop\\sample_project_1\\env\\lib\\site-packages\\sklearn\\base.py:450: UserWarning: X does not have valid feature names, but RandomForestRegressor was fitted with feature names\n",
      "  warnings.warn(\n"
     ]
    }
   ],
   "source": [
    "# Predicted malaria rates for MEDIUM Percipitaiton Countries\n",
    "# Ghana, Tanzania, Mozambique\n",
    "np.random.seed(42)\n",
    "med_per_rates_2022 = {\"Ghana\": 1262.45, \"Tanzania\": 958.86, \"Mozambique\": 842.94}\n",
    "med_mal_rates_preds = {\"Ghana\": 0, \"Tanzania\": 0, \"Mozambique\": 0}\n",
    "\n",
    "for i in med_per_rates_2022:\n",
    "    med_mal_rates_preds[i] = model.predict([[med_per_rates_2022[i]]])\n",
    "\n",
    "for i in med_mal_rates_preds.items():\n",
    "    med_mal_rates_preds[i[0]] = float(i[1])\n",
    "\n",
    "print(med_mal_rates_preds)"
   ]
  },
  {
   "cell_type": "code",
   "execution_count": 162,
   "id": "68be5076",
   "metadata": {},
   "outputs": [
    {
     "name": "stdout",
     "output_type": "stream",
     "text": [
      "{'Botswana': 1.5973375922810178, 'South Africa': 4.043997624206023, 'Namibia': 5.561769647535675}\n"
     ]
    },
    {
     "name": "stderr",
     "output_type": "stream",
     "text": [
      "C:\\Users\\Daniyal\\Desktop\\sample_project_1\\env\\lib\\site-packages\\sklearn\\base.py:450: UserWarning: X does not have valid feature names, but RandomForestRegressor was fitted with feature names\n",
      "  warnings.warn(\n",
      "C:\\Users\\Daniyal\\Desktop\\sample_project_1\\env\\lib\\site-packages\\sklearn\\base.py:450: UserWarning: X does not have valid feature names, but RandomForestRegressor was fitted with feature names\n",
      "  warnings.warn(\n",
      "C:\\Users\\Daniyal\\Desktop\\sample_project_1\\env\\lib\\site-packages\\sklearn\\base.py:450: UserWarning: X does not have valid feature names, but RandomForestRegressor was fitted with feature names\n",
      "  warnings.warn(\n"
     ]
    }
   ],
   "source": [
    "# Predicted malaria rates for LOW Percipitaiton Countries\n",
    "# Botswana, South Africa, Namibia\n",
    "np.random.seed(42)\n",
    "low_per_rates_2022 = {\"Botswana\": 404.58, \"South Africa\": 526.6, \"Namibia\": 278.98}\n",
    "low_mal_rates_preds = {\"Botswana\": 0, \"South Africa\": 0, \"Namibia\": 0}\n",
    "\n",
    "for i in low_per_rates_2022:\n",
    "    low_mal_rates_preds[i] = model.predict([[low_per_rates_2022[i]]])\n",
    "\n",
    "for i in low_mal_rates_preds.items():\n",
    "    low_mal_rates_preds[i[0]] = float(i[1])\n",
    "\n",
    "print(low_mal_rates_preds)"
   ]
  },
  {
   "cell_type": "code",
   "execution_count": 163,
   "id": "23b135ad",
   "metadata": {},
   "outputs": [
    {
     "data": {
      "text/plain": [
       "{'Sierra Leone': 419.26537468500084,\n",
       " 'Libera': 365.36228696022954,\n",
       " 'Equatorial Guinea': 403.8953319634332,\n",
       " 'Ghana': 364.1689278343173,\n",
       " 'Tanzania': 210.8259680889383,\n",
       " 'Mozambique': 389.9286587591805,\n",
       " 'Botswana': 1.5973375922810178,\n",
       " 'South Africa': 4.043997624206023,\n",
       " 'Namibia': 5.561769647535675}"
      ]
     },
     "execution_count": 163,
     "metadata": {},
     "output_type": "execute_result"
    }
   ],
   "source": [
    "all_preds = {**high_mal_rates_preds, **med_mal_rates_preds, **low_mal_rates_preds}\n",
    "all_preds"
   ]
  },
  {
   "cell_type": "code",
   "execution_count": 164,
   "id": "41b70ef4",
   "metadata": {},
   "outputs": [
    {
     "data": {
      "text/plain": [
       "(396.1743312028878, 321.6411848941454, 3.734368288007572)"
      ]
     },
     "execution_count": 164,
     "metadata": {},
     "output_type": "execute_result"
    }
   ],
   "source": [
    "# Step 5 Find Means Between Categories\n",
    "np.random.seed(42)\n",
    "\n",
    "from statistics import fmean\n",
    "high_preds_mean = fmean(high_mal_rates_preds.values())\n",
    "med_preds_mean = fmean(med_mal_rates_preds.values())\n",
    "low_preds_mean = fmean(low_mal_rates_preds.values())\n",
    "\n",
    "high_preds_mean, med_preds_mean, low_preds_mean"
   ]
  },
  {
   "cell_type": "code",
   "execution_count": 165,
   "id": "79908373",
   "metadata": {},
   "outputs": [
    {
     "data": {
      "text/plain": [
       "(count      3.000000\n",
       " mean     396.174331\n",
       " std       27.768617\n",
       " min      365.362287\n",
       " 25%      384.628809\n",
       " 50%      403.895332\n",
       " 75%      411.580353\n",
       " max      419.265375\n",
       " dtype: float64,\n",
       " count      3.000000\n",
       " mean     321.641185\n",
       " std       96.829232\n",
       " min      210.825968\n",
       " 25%      287.497448\n",
       " 50%      364.168928\n",
       " 75%      377.048793\n",
       " max      389.928659\n",
       " dtype: float64,\n",
       " count    3.000000\n",
       " mean     3.734368\n",
       " std      2.000271\n",
       " min      1.597338\n",
       " 25%      2.820668\n",
       " 50%      4.043998\n",
       " 75%      4.802884\n",
       " max      5.561770\n",
       " dtype: float64)"
      ]
     },
     "execution_count": 165,
     "metadata": {},
     "output_type": "execute_result"
    }
   ],
   "source": [
    "pd.Series(high_mal_rates_preds).describe(), pd.Series(med_mal_rates_preds).describe(), pd.Series(low_mal_rates_preds).describe()"
   ]
  },
  {
   "cell_type": "markdown",
   "id": "864049a5",
   "metadata": {},
   "source": [
    "# Step 6 Significance Tests\n",
    "Using 2 sample t tests for mean to determine significance\n",
    "May be error prone because I did not take enough samples (maybe try 30 different seeds and take the mean of them)"
   ]
  },
  {
   "cell_type": "markdown",
   "id": "6f0e1c4b",
   "metadata": {},
   "source": [
    "* Let x̄h = Mean of high group.\n",
    "* x̄m = Mean of medium group.\n",
    "* x̄l = Mean of low group.\n",
    "* sh = Standard error of high group.\n",
    "* sm = Standard error of medium group.\n",
    "* sl = Standard error of low group."
   ]
  },
  {
   "cell_type": "markdown",
   "id": "ec19ff1f",
   "metadata": {},
   "source": [
    "## 2 Sample t Test for High and Medium\n",
    "\n",
    "**Ho: x̄h = x̄m, Ha: x̄h > x̄m** <br>\n",
    "**df = 2**\n",
    "\n",
    "$ t = \\dfrac{x̄h-x̄m}{\\sqrt{\\dfrac{sh^2}{nh}+\\dfrac{sm^2}{nm}}} $\n",
    "\n",
    "$ t \\approx \\dfrac{396.174331-321.641185}{\\sqrt{\\dfrac{27.768617^2}{3}+\\dfrac{96.829232^2}{3}}} $\n",
    "\n",
    "$ t \\approx 1.280, p \\approx .164 $\n",
    "\n",
    "There is not significant evidence to showcase that the high percipitation group's malaria rates are higher than the medium's"
   ]
  },
  {
   "cell_type": "markdown",
   "id": "9e4e8b1c",
   "metadata": {},
   "source": [
    "## 2 Sample t Test for High and Low\n",
    "\n",
    "**Ho: x̄h = x̄l, Ha: x̄h > x̄l** <br>\n",
    "**df = 2**\n",
    "\n",
    "$ t = \\dfrac{x̄h-x̄l}{\\sqrt{\\dfrac{sh^2}{nh}+\\dfrac{sl^2}{nl}}} $\n",
    "\n",
    "$ t \\approx \\dfrac{396.174331-3.734368}{\\sqrt{\\dfrac{27.768617^2}{3}+\\dfrac{2.000271^2}{3}}} $\n",
    "\n",
    "$ t \\approx 24.415, p \\approx .0008 $\n",
    "\n",
    "There is significant evidence to showcase that the high percipitation groups's malaria rates are higher than the low's"
   ]
  },
  {
   "cell_type": "markdown",
   "id": "b4ca1901",
   "metadata": {},
   "source": [
    "## 2 Sample t Test for Medium and Low\n",
    "\n",
    "**Ho: x̄m = x̄l, Ha: x̄m > x̄l** <br>\n",
    "**df = 2**\n",
    "\n",
    "$ t = \\dfrac{x̄m-x̄l}{\\sqrt{\\dfrac{sm^2}{nm}+\\dfrac{sl^2}{nl}}} $\n",
    "\n",
    "$ t \\approx \\dfrac{321.641185-3.734368}{\\sqrt{\\dfrac{96.829232^2}{3}+\\dfrac{2.000271^2}{3}}} $\n",
    "\n",
    "$ t \\approx 5.685, p \\approx .0148 $\n",
    "\n",
    "There is significant evidence to showcase that the medium percipitation group's malaria rates are higher than the low's"
   ]
  },
  {
   "cell_type": "markdown",
   "id": "f1313309",
   "metadata": {},
   "source": [
    "# Conclusion\n",
    "Based off of the data, it seems that there is a significant difference in malaria rates between high and low percipitation countries and medium and low percipitation groups. As percipitation rates increase, so do malaria rates"
   ]
  }
 ],
 "metadata": {
  "kernelspec": {
   "display_name": "Python 3 (ipykernel)",
   "language": "python",
   "name": "python3"
  },
  "language_info": {
   "codemirror_mode": {
    "name": "ipython",
    "version": 3
   },
   "file_extension": ".py",
   "mimetype": "text/x-python",
   "name": "python",
   "nbconvert_exporter": "python",
   "pygments_lexer": "ipython3",
   "version": "3.9.7"
  }
 },
 "nbformat": 4,
 "nbformat_minor": 5
}
